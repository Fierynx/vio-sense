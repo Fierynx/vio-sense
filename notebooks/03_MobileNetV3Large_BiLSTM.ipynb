{
 "cells": [
  {
   "cell_type": "code",
   "execution_count": 1,
   "id": "44aeab01",
   "metadata": {},
   "outputs": [],
   "source": [
    "import numpy as np\n",
    "import tensorflow as tf\n",
    "import matplotlib.pyplot as plt\n",
    "\n",
    "from sklearn.model_selection import train_test_split\n",
    "from sklearn.preprocessing import LabelEncoder\n",
    "\n",
    "from tensorflow.keras.applications import MobileNetV2,Xception,EfficientNetB7,InceptionResNetV2\n",
    "from tensorflow.keras.utils import to_categorical\n",
    "from tensorflow.keras.layers import Input,LSTM, ConvLSTM2D, MaxPooling3D, TimeDistributed, Dense, Flatten, Dropout, Bidirectional, MaxPooling2D, InputLayer, BatchNormalization, GlobalAveragePooling2D\n",
    "from tensorflow.keras.models import Sequential, Model, load_model\n",
    "from tensorflow.keras.optimizers import Adam\n",
    "from tensorflow.keras.regularizers import l2\n",
    "from tensorflow.keras.callbacks import EarlyStopping, ModelCheckpoint, Callback\n",
    "\n",
    "from IPython.display import clear_output,Video\n",
    "\n",
    "import os\n",
    "import json\n",
    "import cv2\n",
    "\n",
    "#constants\n",
    "IMG_SIZE = 128\n",
    "FRAME_COUNT = 15"
   ]
  },
  {
   "cell_type": "code",
   "execution_count": 2,
   "id": "df33f2aa",
   "metadata": {},
   "outputs": [],
   "source": [
    "scvd_train_dir = '/kaggle/input/smartcity-cctv-violence-detection-dataset-scvd/SCVD/SCVD_converted_sec_split/Train'\n",
    "scvd_test_dir = '/kaggle/input/smartcity-cctv-violence-detection-dataset-scvd/SCVD/SCVD_converted_sec_split/Test'\n",
    "scvd_classes = ['Normal', 'Violence','Weaponized']"
   ]
  },
  {
   "cell_type": "code",
   "execution_count": 3,
   "id": "0c736bd4",
   "metadata": {},
   "outputs": [],
   "source": [
    "def load_video(path, nframes=FRAME_COUNT, size=(IMG_SIZE, IMG_SIZE)):\n",
    "    frames = []\n",
    "    cap = cv2.VideoCapture(path)\n",
    "\n",
    "    \n",
    "    total_frames = int(cap.get(cv2.CAP_PROP_FRAME_COUNT)) # Get the total number of frames in the video\n",
    "    skip_frames = max(1, (total_frames // nframes) -1)  # Ensure at least 1 frame is skipped\n",
    "\n",
    "    for _ in range(nframes):\n",
    "        ret, frame = cap.read()  # Read the current frame\n",
    "        if not ret:\n",
    "            break\n",
    "\n",
    "        # Process the current frame (resize, convert, normalize)\n",
    "        frame = cv2.resize(frame, size)\n",
    "        frame = frame[:, :, [2, 1, 0]]  # BGR to RGB\n",
    "        frame = frame / 255.0\n",
    "        frames.append(frame)\n",
    "\n",
    "        # Skip the specified number of frames\n",
    "        for _ in range(skip_frames):\n",
    "            cap.grab()  # Advance to the next frame without reading it\n",
    "\n",
    "    cap.release() \n",
    "    return frames\n",
    "\n",
    "\n",
    "def extract_frames(main_directory):\n",
    "    features = []\n",
    "    labels = []\n",
    "    for c in scvd_classes:\n",
    "        class_dir = os.path.join(main_directory,c)\n",
    "        for i,video in enumerate(os.listdir(class_dir)): \n",
    "            if i < 650:\n",
    "                if video.endswith(('.mp4', '.avi', '.mov')): \n",
    "                    video_path = os.path.join(class_dir, video)\n",
    "\n",
    "                    # Load and process the video\n",
    "                    frames = load_video(video_path)\n",
    "\n",
    "                    if len(frames) == FRAME_COUNT:\n",
    "                        features.append(frames)\n",
    "                        labels.append(c)\n",
    "    return np.asarray(features),np.array(labels)"
   ]
  },
  {
   "cell_type": "code",
   "execution_count": 4,
   "id": "6425d7cc",
   "metadata": {},
   "outputs": [],
   "source": [
    "normal = load_video('../data/NonViolence')\n",
    "violence = load_video('../data/Violence')"
   ]
  },
  {
   "cell_type": "code",
   "execution_count": 5,
   "id": "7465195d",
   "metadata": {},
   "outputs": [
    {
     "ename": "IndexError",
     "evalue": "list index out of range",
     "output_type": "error",
     "traceback": [
      "\u001b[31m---------------------------------------------------------------------------\u001b[39m",
      "\u001b[31mIndexError\u001b[39m                                Traceback (most recent call last)",
      "\u001b[36mCell\u001b[39m\u001b[36m \u001b[39m\u001b[32mIn[5]\u001b[39m\u001b[32m, line 1\u001b[39m\n\u001b[32m----> \u001b[39m\u001b[32m1\u001b[39m \u001b[43mnormal\u001b[49m\u001b[43m[\u001b[49m\u001b[32;43m0\u001b[39;49m\u001b[43m]\u001b[49m.shape,violence[\u001b[32m0\u001b[39m].shape\n",
      "\u001b[31mIndexError\u001b[39m: list index out of range"
     ]
    }
   ],
   "source": [
    "normal[0].shape,violence[0].shape"
   ]
  },
  {
   "cell_type": "code",
   "execution_count": 7,
   "id": "1f3cffc0",
   "metadata": {},
   "outputs": [
    {
     "ename": "IndexError",
     "evalue": "list index out of range",
     "output_type": "error",
     "traceback": [
      "\u001b[31m---------------------------------------------------------------------------\u001b[39m",
      "\u001b[31mIndexError\u001b[39m                                Traceback (most recent call last)",
      "\u001b[36mCell\u001b[39m\u001b[36m \u001b[39m\u001b[32mIn[7]\u001b[39m\u001b[32m, line 6\u001b[39m\n\u001b[32m      4\u001b[39m \u001b[38;5;28;01mfor\u001b[39;00m i \u001b[38;5;129;01min\u001b[39;00m \u001b[38;5;28mrange\u001b[39m(\u001b[32m5\u001b[39m):\n\u001b[32m      5\u001b[39m     plt.subplot(\u001b[32m3\u001b[39m, \u001b[32m5\u001b[39m, i + \u001b[32m1\u001b[39m)\n\u001b[32m----> \u001b[39m\u001b[32m6\u001b[39m     plt.imshow(\u001b[43mnormal\u001b[49m\u001b[43m[\u001b[49m\u001b[43m-\u001b[49m\u001b[43mi\u001b[49m\u001b[43m]\u001b[49m)\n\u001b[32m      7\u001b[39m     plt.title(\u001b[33m\"\u001b[39m\u001b[33mNormal\u001b[39m\u001b[33m\"\u001b[39m)\n\u001b[32m      8\u001b[39m     plt.axis(\u001b[33m'\u001b[39m\u001b[33moff\u001b[39m\u001b[33m'\u001b[39m)\n",
      "\u001b[31mIndexError\u001b[39m: list index out of range"
     ]
    },
    {
     "data": {
      "image/png": "[encoded data removed]",
      "text/plain": [
       "<Figure size 1500x600 with 1 Axes>"
      ]
     },
     "metadata": {},
     "output_type": "display_data"
    }
   ],
   "source": [
    "plt.figure(figsize=(15,6))\n",
    "\n",
    "# Normal frames\n",
    "for i in range(5):\n",
    "    plt.subplot(3, 5, i + 1)\n",
    "    plt.imshow(normal[-i])\n",
    "    plt.title(\"Normal\")\n",
    "    plt.axis('off')\n",
    "\n",
    "# Violence frames\n",
    "for i in range(5):\n",
    "    plt.subplot(3, 5, i + 6)\n",
    "    plt.imshow(violence[-i])\n",
    "    plt.title(\"Violence\")\n",
    "    plt.axis('off')\n",
    "\n",
    "plt.tight_layout()\n",
    "plt.show()\n"
   ]
  },
  {
   "cell_type": "code",
   "execution_count": null,
   "id": "55ffbc9c",
   "metadata": {},
   "outputs": [],
   "source": []
  }
 ],
 "metadata": {
  "kernelspec": {
   "display_name": "deep_learning",
   "language": "python",
   "name": "python3"
  },
  "language_info": {
   "codemirror_mode": {
    "name": "ipython",
    "version": 3
   },
   "file_extension": ".py",
   "mimetype": "text/x-python",
   "name": "python",
   "nbconvert_exporter": "python",
   "pygments_lexer": "ipython3",
   "version": "3.11.9"
  }
 },
 "nbformat": 4,
 "nbformat_minor": 5
}
