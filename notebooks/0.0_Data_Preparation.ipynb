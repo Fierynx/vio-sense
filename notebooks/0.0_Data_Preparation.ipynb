{
 "cells": [
  {
   "cell_type": "code",
   "execution_count": 2,
   "id": "f85e6469",
   "metadata": {},
   "outputs": [],
   "source": [
    "import os\n",
    "import cv2\n",
    "import numpy as np\n",
    "import tensorflow as tf\n",
    "from tensorflow.keras.utils import to_categorical\n",
    "from sklearn.model_selection import train_test_split"
   ]
  },
  {
   "cell_type": "code",
   "execution_count": null,
   "id": "f02043bd",
   "metadata": {},
   "outputs": [],
   "source": [
    "TPU_INIT = False\n",
    "\n",
    "if TPU_INIT:\n",
    "    try:\n",
    "        tpu = tf.distribute.cluster_resolver.TPUClusterResolver.connect()\n",
    "        tpu_strategy = tf.distribute.experimental.TPUStrategy(tpu)\n",
    "    \n",
    "    except ValueError:\n",
    "        raise BaseException('ERROR: Not connected to a TPU runtime!')\n",
    "\n",
    "\n",
    "print(\"Tensorflow version \" + tf.__version__)"
   ]
  },
  {
   "cell_type": "code",
   "execution_count": null,
   "id": "3ed51c8a",
   "metadata": {},
   "outputs": [],
   "source": [
    "# Tinggi dan lebar untuk mengubah ukuran frame video\n",
    "IMAGE_HEIGHT, IMAGE_WIDTH = 224, 224\n",
    "# Jumlah frame yang akan diambil dari setiap video\n",
    "SEQUENCE_LENGTH = 16\n",
    "# Direktori tempat dataset disimpan\n",
    "DATASET_DIR = \"../data/\"\n",
    "# Daftar class untuk klasifikasi\n",
    "CLASSES_LIST = [\"NonViolence\", \"Violence\"]"
   ]
  },
  {
   "cell_type": "code",
   "execution_count": null,
   "id": "9af347cb",
   "metadata": {},
   "outputs": [],
   "source": [
    "def extract_frames(video_path):\n",
    "\n",
    "    cap = cv2.VideoCapture(video_path)\n",
    "\n",
    "    # 1. Dapatkan total frame\n",
    "    total_frames = int(cap.get(cv2.CAP_PROP_FRAME_COUNT))\n",
    "\n",
    "    # 2. Tentukan indeks frame yang akan diambil, sampling merata\n",
    "    if total_frames < SEQUENCE_LENGTH:\n",
    "        # Kalau video terlalu pendek, ambil semua dan ulangi terakhir sampai seq_len\n",
    "        indices = list(range(total_frames)) + [total_frames - 1] * (SEQUENCE_LENGTH - total_frames)\n",
    "    else:\n",
    "        step = total_frames / SEQUENCE_LENGTH\n",
    "        indices = [int(i * step) for i in range(SEQUENCE_LENGTH)]\n",
    "\n",
    "    frames = []\n",
    "    for idx in indices:\n",
    "        cap.set(cv2.CAP_PROP_POS_FRAMES, idx)\n",
    "        ret, frame = cap.read()\n",
    "        if not ret:\n",
    "            # kalau gagal baca frame, ulangi frame terakhir\n",
    "            frame = frames[-1] if frames else np.zeros((IMAGE_HEIGHT, IMAGE_WIDTH, 3), np.uint8)\n",
    "        # 3. Center‐crop ke square\n",
    "        h, w = frame.shape[:2]\n",
    "        m = min(h, w)\n",
    "        y0 = (h - m) // 2\n",
    "        x0 = (w - m) // 2\n",
    "        crop = frame[y0:y0+m, x0:x0+m]\n",
    "        # 4. Resize, RGB, normalisasi\n",
    "        crop = cv2.resize(crop, (IMAGE_HEIGHT, IMAGE_WIDTH), interpolation=cv2.INTER_AREA)\n",
    "        rgb  = cv2.cvtColor(crop, cv2.COLOR_BGR2RGB)\n",
    "        frames.append(rgb.astype(np.float32) / 255.0)\n",
    "\n",
    "    cap.release()\n",
    "    return np.stack(frames, axis=0)"
   ]
  },
  {
   "cell_type": "code",
   "execution_count": null,
   "id": "927ae49b",
   "metadata": {},
   "outputs": [],
   "source": [
    "def create_dataset():\n",
    "    features = []\n",
    "    labels = []\n",
    "    video_files_paths = []\n",
    "\n",
    "    # 1. Iterasi melalui setiap kelas\n",
    "    for class_index, class_name in enumerate(CLASSES_LIST):\n",
    "        print(f'Extracting Data of Class: {class_name}')\n",
    "        \n",
    "        # 2. Dapatkan daftar file video dalam direktori kelas\n",
    "        class_dir = os.path.join(DATASET_DIR, class_name)\n",
    "        files_list = os.listdir(class_dir)\n",
    "\n",
    "        # 3. Iterasi melalui setiap file video\n",
    "        for file_name in files_list:\n",
    "            # a. Bangun path lengkap ke file video\n",
    "            video_file_path = os.path.join(class_dir, file_name)\n",
    "\n",
    "            # b. Ekstrak frame dari video\n",
    "            frames = extract_frames(video_file_path)\n",
    "\n",
    "            # c. Periksa apakah jumlah frame sesuai dengan SEQUENCE_LENGTH\n",
    "            if len(frames) == SEQUENCE_LENGTH:\n",
    "                # d. Simpan data ke dalam list yang sesuai\n",
    "                features.append(frames)\n",
    "                labels.append(class_index)\n",
    "                video_files_paths.append(video_file_path)\n",
    "\n",
    "    # 4. Konversi list ke array NumPy\n",
    "    features = np.asarray(features)\n",
    "    labels = np.array(labels)\n",
    "\n",
    "    # 5. Kembalikan dataset\n",
    "    return features, labels, video_files_paths\n"
   ]
  },
  {
   "cell_type": "code",
   "execution_count": null,
   "id": "ec744521",
   "metadata": {},
   "outputs": [],
   "source": [
    "# Buat dataset\n",
    "features, labels, video_files_paths = create_dataset()"
   ]
  },
  {
   "cell_type": "code",
   "execution_count": null,
   "id": "72ae66e3",
   "metadata": {},
   "outputs": [],
   "source": [
    "# Konversi label ke one hot encoded format\n",
    "one_hot_encoded_labels = to_categorical(labels)"
   ]
  },
  {
   "cell_type": "code",
   "execution_count": null,
   "id": "78b79878",
   "metadata": {},
   "outputs": [],
   "source": [
    "# Split data menjadi 90% data train dan 10% data test.\n",
    "X_train, X_test, y_train, y_test = train_test_split(features, one_hot_encoded_labels, test_size = 0.1, shuffle = True, random_state = 42)\n"
   ]
  },
  {
   "cell_type": "code",
   "execution_count": null,
   "id": "2cdc5a1c",
   "metadata": {},
   "outputs": [],
   "source": [
    "print(X_train.shape,y_train.shape)\n",
    "print(X_test.shape, y_test.shape)"
   ]
  },
  {
   "cell_type": "code",
   "execution_count": null,
   "id": "67c794ed",
   "metadata": {},
   "outputs": [],
   "source": [
    "# Saving the extracted data\n",
    "os.makedirs(\"../data/ProcessedData/\", exist_ok=True)\n",
    "np.save(\"../data/ProcessedData/X_train.npy\", X_train)\n",
    "np.save(\"../data/ProcessedData/y_train.npy\", y_train)\n",
    "np.save(\"../data/ProcessedData/X_test.npy\", X_test)\n",
    "np.save(\"../data/ProcessedData/y_test.npy\", y_test)\n",
    "print(\"Data has been saved successfully.\")"
   ]
  },
  {
   "cell_type": "code",
   "execution_count": null,
   "id": "beccead0",
   "metadata": {},
   "outputs": [],
   "source": []
  }
 ],
 "metadata": {
  "kernelspec": {
   "display_name": "Python 3",
   "language": "python",
   "name": "python3"
  },
  "language_info": {
   "codemirror_mode": {
    "name": "ipython",
    "version": 3
   },
   "file_extension": ".py",
   "mimetype": "text/x-python",
   "name": "python",
   "nbconvert_exporter": "python",
   "pygments_lexer": "ipython3",
   "version": "3.11.9"
  }
 },
 "nbformat": 4,
 "nbformat_minor": 5
}
